{
 "cells": [
  {
   "cell_type": "code",
   "execution_count": 1,
   "id": "99fba443",
   "metadata": {
    "_cell_guid": "b1076dfc-b9ad-4769-8c92-a6c4dae69d19",
    "_uuid": "8f2839f25d086af736a60e9eeb907d3b93b6e0e5",
    "execution": {
     "iopub.execute_input": "2023-09-08T21:03:50.412860Z",
     "iopub.status.busy": "2023-09-08T21:03:50.412387Z",
     "iopub.status.idle": "2023-09-08T21:03:50.431420Z",
     "shell.execute_reply": "2023-09-08T21:03:50.430307Z"
    },
    "papermill": {
     "duration": 0.034918,
     "end_time": "2023-09-08T21:03:50.433871",
     "exception": false,
     "start_time": "2023-09-08T21:03:50.398953",
     "status": "completed"
    },
    "tags": []
   },
   "outputs": [
    {
     "name": "stdout",
     "output_type": "stream",
     "text": [
      "/kaggle/input/melbourne-housing-snapshot/melb_data.csv\n",
      "/kaggle/input/home-data-for-ml-course/sample_submission.csv\n",
      "/kaggle/input/home-data-for-ml-course/data_description.txt\n",
      "/kaggle/input/home-data-for-ml-course/train.csv\n",
      "/kaggle/input/home-data-for-ml-course/test.csv\n"
     ]
    }
   ],
   "source": [
    "# Input data files are available in the read-only \"../input/\" directory\n",
    "# For example, running this (by clicking run or pressing Shift+Enter) will list all files under the input directory\n",
    "\n",
    "import os\n",
    "for dirname, _, filenames in os.walk('/kaggle/input'):\n",
    "    for filename in filenames:\n",
    "        print(os.path.join(dirname, filename))\n",
    "\n",
    "# You can write up to 20GB to the current directory (/kaggle/working/) that gets preserved as output when you create a version using \"Save & Run All\" \n",
    "# You can also write temporary files to /kaggle/temp/, but they won't be saved outside of the current session"
   ]
  },
  {
   "cell_type": "markdown",
   "id": "bdc905db",
   "metadata": {
    "papermill": {
     "duration": 0.010038,
     "end_time": "2023-09-08T21:03:50.454440",
     "exception": false,
     "start_time": "2023-09-08T21:03:50.444402",
     "status": "completed"
    },
    "tags": []
   },
   "source": [
    "# **Loading the data**"
   ]
  },
  {
   "cell_type": "code",
   "execution_count": 2,
   "id": "c6595662",
   "metadata": {
    "execution": {
     "iopub.execute_input": "2023-09-08T21:03:50.477222Z",
     "iopub.status.busy": "2023-09-08T21:03:50.476735Z",
     "iopub.status.idle": "2023-09-08T21:03:52.118202Z",
     "shell.execute_reply": "2023-09-08T21:03:52.117253Z"
    },
    "papermill": {
     "duration": 1.655759,
     "end_time": "2023-09-08T21:03:52.120586",
     "exception": false,
     "start_time": "2023-09-08T21:03:50.464827",
     "status": "completed"
    },
    "tags": []
   },
   "outputs": [],
   "source": [
    "import pandas as pd\n",
    "from sklearn.model_selection import train_test_split\n",
    "\n",
    "# Read the data\n",
    "X_full = pd.read_csv('../input/home-data-for-ml-course/train.csv', index_col='Id')\n",
    "X_test_full = pd.read_csv('../input/home-data-for-ml-course/test.csv', index_col='Id')\n",
    "\n",
    "# Obtain target and predictors\n",
    "y = X_full.SalePrice\n",
    "features = ['LotArea', 'YearBuilt', '1stFlrSF', '2ndFlrSF', 'FullBath', 'BedroomAbvGr', 'TotRmsAbvGrd']\n",
    "X = X_full[features].copy()\n",
    "X_test = X_test_full[features].copy()\n",
    "\n",
    "# Break off validation set from training data\n",
    "X_train, X_valid, y_train, y_valid = train_test_split(X, y, train_size=0.8, test_size=0.2,\n",
    "                                                      random_state=0)"
   ]
  },
  {
   "cell_type": "code",
   "execution_count": 3,
   "id": "021b3ae7",
   "metadata": {
    "execution": {
     "iopub.execute_input": "2023-09-08T21:03:52.146657Z",
     "iopub.status.busy": "2023-09-08T21:03:52.144993Z",
     "iopub.status.idle": "2023-09-08T21:03:52.160518Z",
     "shell.execute_reply": "2023-09-08T21:03:52.159858Z"
    },
    "papermill": {
     "duration": 0.029362,
     "end_time": "2023-09-08T21:03:52.162216",
     "exception": false,
     "start_time": "2023-09-08T21:03:52.132854",
     "status": "completed"
    },
    "tags": []
   },
   "outputs": [
    {
     "data": {
      "text/html": [
       "<div>\n",
       "<style scoped>\n",
       "    .dataframe tbody tr th:only-of-type {\n",
       "        vertical-align: middle;\n",
       "    }\n",
       "\n",
       "    .dataframe tbody tr th {\n",
       "        vertical-align: top;\n",
       "    }\n",
       "\n",
       "    .dataframe thead th {\n",
       "        text-align: right;\n",
       "    }\n",
       "</style>\n",
       "<table border=\"1\" class=\"dataframe\">\n",
       "  <thead>\n",
       "    <tr style=\"text-align: right;\">\n",
       "      <th></th>\n",
       "      <th>LotArea</th>\n",
       "      <th>YearBuilt</th>\n",
       "      <th>1stFlrSF</th>\n",
       "      <th>2ndFlrSF</th>\n",
       "      <th>FullBath</th>\n",
       "      <th>BedroomAbvGr</th>\n",
       "      <th>TotRmsAbvGrd</th>\n",
       "    </tr>\n",
       "    <tr>\n",
       "      <th>Id</th>\n",
       "      <th></th>\n",
       "      <th></th>\n",
       "      <th></th>\n",
       "      <th></th>\n",
       "      <th></th>\n",
       "      <th></th>\n",
       "      <th></th>\n",
       "    </tr>\n",
       "  </thead>\n",
       "  <tbody>\n",
       "    <tr>\n",
       "      <th>619</th>\n",
       "      <td>11694</td>\n",
       "      <td>2007</td>\n",
       "      <td>1828</td>\n",
       "      <td>0</td>\n",
       "      <td>2</td>\n",
       "      <td>3</td>\n",
       "      <td>9</td>\n",
       "    </tr>\n",
       "    <tr>\n",
       "      <th>871</th>\n",
       "      <td>6600</td>\n",
       "      <td>1962</td>\n",
       "      <td>894</td>\n",
       "      <td>0</td>\n",
       "      <td>1</td>\n",
       "      <td>2</td>\n",
       "      <td>5</td>\n",
       "    </tr>\n",
       "    <tr>\n",
       "      <th>93</th>\n",
       "      <td>13360</td>\n",
       "      <td>1921</td>\n",
       "      <td>964</td>\n",
       "      <td>0</td>\n",
       "      <td>1</td>\n",
       "      <td>2</td>\n",
       "      <td>5</td>\n",
       "    </tr>\n",
       "    <tr>\n",
       "      <th>818</th>\n",
       "      <td>13265</td>\n",
       "      <td>2002</td>\n",
       "      <td>1689</td>\n",
       "      <td>0</td>\n",
       "      <td>2</td>\n",
       "      <td>3</td>\n",
       "      <td>7</td>\n",
       "    </tr>\n",
       "    <tr>\n",
       "      <th>303</th>\n",
       "      <td>13704</td>\n",
       "      <td>2001</td>\n",
       "      <td>1541</td>\n",
       "      <td>0</td>\n",
       "      <td>2</td>\n",
       "      <td>3</td>\n",
       "      <td>6</td>\n",
       "    </tr>\n",
       "  </tbody>\n",
       "</table>\n",
       "</div>"
      ],
      "text/plain": [
       "     LotArea  YearBuilt  1stFlrSF  2ndFlrSF  FullBath  BedroomAbvGr  \\\n",
       "Id                                                                    \n",
       "619    11694       2007      1828         0         2             3   \n",
       "871     6600       1962       894         0         1             2   \n",
       "93     13360       1921       964         0         1             2   \n",
       "818    13265       2002      1689         0         2             3   \n",
       "303    13704       2001      1541         0         2             3   \n",
       "\n",
       "     TotRmsAbvGrd  \n",
       "Id                 \n",
       "619             9  \n",
       "871             5  \n",
       "93              5  \n",
       "818             7  \n",
       "303             6  "
      ]
     },
     "execution_count": 3,
     "metadata": {},
     "output_type": "execute_result"
    }
   ],
   "source": [
    "X_train.head()"
   ]
  },
  {
   "cell_type": "markdown",
   "id": "0fd81ae0",
   "metadata": {
    "papermill": {
     "duration": 0.010338,
     "end_time": "2023-09-08T21:03:52.183204",
     "exception": false,
     "start_time": "2023-09-08T21:03:52.172866",
     "status": "completed"
    },
    "tags": []
   },
   "source": [
    "# Step 1: Evaluate several models\n",
    "## Defining 5 different random forest models\n",
    "\n",
    "**n_estimatorsint**, default=100\n",
    "  The number of trees in the forest."
   ]
  },
  {
   "cell_type": "code",
   "execution_count": 4,
   "id": "2884b210",
   "metadata": {
    "execution": {
     "iopub.execute_input": "2023-09-08T21:03:52.206909Z",
     "iopub.status.busy": "2023-09-08T21:03:52.206525Z",
     "iopub.status.idle": "2023-09-08T21:03:52.657392Z",
     "shell.execute_reply": "2023-09-08T21:03:52.656440Z"
    },
    "papermill": {
     "duration": 0.4661,
     "end_time": "2023-09-08T21:03:52.660005",
     "exception": false,
     "start_time": "2023-09-08T21:03:52.193905",
     "status": "completed"
    },
    "tags": []
   },
   "outputs": [],
   "source": [
    "from sklearn.ensemble import RandomForestRegressor\n",
    "\n",
    "# Define the models\n",
    "model_1 = RandomForestRegressor(n_estimators=50, random_state=0)\n",
    "model_2 = RandomForestRegressor(n_estimators=100, random_state=0)\n",
    "model_3 = RandomForestRegressor(n_estimators=100, criterion='absolute_error', random_state=0)\n",
    "model_4 = RandomForestRegressor(n_estimators=200, min_samples_split=20, random_state=0)\n",
    "model_5 = RandomForestRegressor(n_estimators=100, max_depth=7, random_state=0)\n",
    "\n",
    "models = [model_1, model_2, model_3, model_4, model_5]"
   ]
  },
  {
   "cell_type": "markdown",
   "id": "20d93623",
   "metadata": {
    "papermill": {
     "duration": 0.010793,
     "end_time": "2023-09-08T21:03:52.681441",
     "exception": false,
     "start_time": "2023-09-08T21:03:52.670648",
     "status": "completed"
    },
    "tags": []
   },
   "source": [
    "To select the best model out of the five, we define a function score_model() below.To select the best model out of the five, we define a function score_model() below. This function returns the mean absolute error (MAE) from the validation set. Recall that the best model will obtain the lowest MAE."
   ]
  },
  {
   "cell_type": "code",
   "execution_count": 5,
   "id": "e6725275",
   "metadata": {
    "execution": {
     "iopub.execute_input": "2023-09-08T21:03:52.705007Z",
     "iopub.status.busy": "2023-09-08T21:03:52.704661Z",
     "iopub.status.idle": "2023-09-08T21:03:56.816812Z",
     "shell.execute_reply": "2023-09-08T21:03:56.815768Z"
    },
    "papermill": {
     "duration": 4.1268,
     "end_time": "2023-09-08T21:03:56.819019",
     "exception": false,
     "start_time": "2023-09-08T21:03:52.692219",
     "status": "completed"
    },
    "tags": []
   },
   "outputs": [
    {
     "name": "stdout",
     "output_type": "stream",
     "text": [
      "Model 1 MAE: 24015\n",
      "Model 2 MAE: 23740\n",
      "Model 3 MAE: 23528\n",
      "Model 4 MAE: 23996\n",
      "Model 5 MAE: 23706\n"
     ]
    }
   ],
   "source": [
    "from sklearn.metrics import mean_absolute_error\n",
    "\n",
    "# Function for comparing different models\n",
    "def score_model(model, X_t=X_train, X_v=X_valid, y_t=y_train, y_v=y_valid):\n",
    "    model.fit(X_t, y_t)\n",
    "    preds = model.predict(X_v)\n",
    "    return mean_absolute_error(y_v, preds)\n",
    "\n",
    "for i in range(0, len(models)):\n",
    "    mae = score_model(models[i])\n",
    "    print(\"Model %d MAE: %d\" % (i+1, mae))"
   ]
  },
  {
   "cell_type": "markdown",
   "id": "e319b4b0",
   "metadata": {
    "papermill": {
     "duration": 0.01054,
     "end_time": "2023-09-08T21:03:56.840536",
     "exception": false,
     "start_time": "2023-09-08T21:03:56.829996",
     "status": "completed"
    },
    "tags": []
   },
   "source": [
    "We can see that `model_3` has the lowest MAE score."
   ]
  },
  {
   "cell_type": "markdown",
   "id": "cf779532",
   "metadata": {
    "papermill": {
     "duration": 0.010215,
     "end_time": "2023-09-08T21:03:56.861341",
     "exception": false,
     "start_time": "2023-09-08T21:03:56.851126",
     "status": "completed"
    },
    "tags": []
   },
   "source": [
    "# Step 2: Generate test predictions\n",
    "\n",
    "Great. You know how to evaluate what makes an accurate model. Now it's time to go through the modeling process and make predictions. In the line below, create a Random Forest model with the variable name `my_model`."
   ]
  },
  {
   "cell_type": "code",
   "execution_count": 6,
   "id": "86110ff5",
   "metadata": {
    "execution": {
     "iopub.execute_input": "2023-09-08T21:03:56.884068Z",
     "iopub.status.busy": "2023-09-08T21:03:56.883714Z",
     "iopub.status.idle": "2023-09-08T21:03:56.888796Z",
     "shell.execute_reply": "2023-09-08T21:03:56.887446Z"
    },
    "papermill": {
     "duration": 0.018904,
     "end_time": "2023-09-08T21:03:56.890711",
     "exception": false,
     "start_time": "2023-09-08T21:03:56.871807",
     "status": "completed"
    },
    "tags": []
   },
   "outputs": [],
   "source": [
    "# Define a model\n",
    "my_model = RandomForestRegressor(n_estimators=100, criterion='absolute_error', random_state=0)\n"
   ]
  },
  {
   "cell_type": "code",
   "execution_count": 7,
   "id": "b288421c",
   "metadata": {
    "execution": {
     "iopub.execute_input": "2023-09-08T21:03:56.913252Z",
     "iopub.status.busy": "2023-09-08T21:03:56.912884Z",
     "iopub.status.idle": "2023-09-08T21:04:00.617945Z",
     "shell.execute_reply": "2023-09-08T21:04:00.616511Z"
    },
    "papermill": {
     "duration": 3.719255,
     "end_time": "2023-09-08T21:04:00.620499",
     "exception": false,
     "start_time": "2023-09-08T21:03:56.901244",
     "status": "completed"
    },
    "tags": []
   },
   "outputs": [],
   "source": [
    "# Fit the model to the training data\n",
    "my_model.fit(X, y)\n",
    "\n",
    "# Generate test predictions\n",
    "preds_test = my_model.predict(X_test)\n",
    "\n",
    "# Save predictions in format used for competition scoring\n",
    "output = pd.DataFrame({'Id': X_test.index,\n",
    "                       'SalePrice': preds_test})\n",
    "output.to_csv('submission.csv', index=False)"
   ]
  },
  {
   "cell_type": "markdown",
   "id": "7012a74a",
   "metadata": {
    "papermill": {
     "duration": 0.01025,
     "end_time": "2023-09-08T21:04:00.693891",
     "exception": false,
     "start_time": "2023-09-08T21:04:00.683641",
     "status": "completed"
    },
    "tags": []
   },
   "source": [
    "---"
   ]
  },
  {
   "cell_type": "markdown",
   "id": "832cabf4",
   "metadata": {
    "papermill": {
     "duration": 0.010111,
     "end_time": "2023-09-08T21:04:00.714459",
     "exception": false,
     "start_time": "2023-09-08T21:04:00.704348",
     "status": "completed"
    },
    "tags": []
   },
   "source": [
    "# **Missing Values**"
   ]
  },
  {
   "cell_type": "markdown",
   "id": "ec4213da",
   "metadata": {
    "papermill": {
     "duration": 0.010574,
     "end_time": "2023-09-08T21:04:00.735165",
     "exception": false,
     "start_time": "2023-09-08T21:04:00.724591",
     "status": "completed"
    },
    "tags": []
   },
   "source": [
    "## Example\n",
    "\n",
    "## Load data and reate function to Measue Quality of each aproach to solve missing values"
   ]
  },
  {
   "cell_type": "code",
   "execution_count": 8,
   "id": "91e31583",
   "metadata": {
    "execution": {
     "iopub.execute_input": "2023-09-08T21:04:00.759807Z",
     "iopub.status.busy": "2023-09-08T21:04:00.758888Z",
     "iopub.status.idle": "2023-09-08T21:04:00.840385Z",
     "shell.execute_reply": "2023-09-08T21:04:00.839509Z"
    },
    "papermill": {
     "duration": 0.096025,
     "end_time": "2023-09-08T21:04:00.842596",
     "exception": false,
     "start_time": "2023-09-08T21:04:00.746571",
     "status": "completed"
    },
    "tags": []
   },
   "outputs": [],
   "source": [
    "import pandas as pd\n",
    "from sklearn.model_selection import train_test_split\n",
    "\n",
    "# Load the data\n",
    "data = pd.read_csv('../input/melbourne-housing-snapshot/melb_data.csv')\n",
    "\n",
    "# Select target\n",
    "y = data.Price\n",
    "\n",
    "# To keep things simple, we'll use only numerical predictors\n",
    "melb_predictors = data.drop(['Price'], axis=1)\n",
    "X = melb_predictors.select_dtypes(exclude=['object'])\n",
    "\n",
    "# Divide data into training and validation subsets\n",
    "X_train, X_valid, y_train, y_valid = train_test_split(X, y, train_size=0.8, test_size=0.2,\n",
    "                                                      random_state=0)"
   ]
  },
  {
   "cell_type": "code",
   "execution_count": 9,
   "id": "7804dc82",
   "metadata": {
    "execution": {
     "iopub.execute_input": "2023-09-08T21:04:00.865492Z",
     "iopub.status.busy": "2023-09-08T21:04:00.864980Z",
     "iopub.status.idle": "2023-09-08T21:04:00.870378Z",
     "shell.execute_reply": "2023-09-08T21:04:00.869348Z"
    },
    "papermill": {
     "duration": 0.018709,
     "end_time": "2023-09-08T21:04:00.872016",
     "exception": false,
     "start_time": "2023-09-08T21:04:00.853307",
     "status": "completed"
    },
    "tags": []
   },
   "outputs": [],
   "source": [
    "from sklearn.ensemble import RandomForestRegressor\n",
    "from sklearn.metrics import mean_absolute_error\n",
    "\n",
    "# Function for comparing different approaches\n",
    "def score_dataset(X_train, X_valid, y_train, y_valid):\n",
    "    model = RandomForestRegressor(n_estimators=10, random_state=0)\n",
    "    model.fit(X_train, y_train)\n",
    "    preds = model.predict(X_valid)\n",
    "    return mean_absolute_error(y_valid, preds)"
   ]
  },
  {
   "cell_type": "markdown",
   "id": "624a1091",
   "metadata": {
    "papermill": {
     "duration": 0.010063,
     "end_time": "2023-09-08T21:04:00.892579",
     "exception": false,
     "start_time": "2023-09-08T21:04:00.882516",
     "status": "completed"
    },
    "tags": []
   },
   "source": [
    "### **Score from Approach 1 (Drop Columns with Missing Values)**\n"
   ]
  },
  {
   "cell_type": "code",
   "execution_count": 10,
   "id": "b5f628b2",
   "metadata": {
    "execution": {
     "iopub.execute_input": "2023-09-08T21:04:00.915099Z",
     "iopub.status.busy": "2023-09-08T21:04:00.914637Z",
     "iopub.status.idle": "2023-09-08T21:04:01.364947Z",
     "shell.execute_reply": "2023-09-08T21:04:01.363710Z"
    },
    "papermill": {
     "duration": 0.464084,
     "end_time": "2023-09-08T21:04:01.367052",
     "exception": false,
     "start_time": "2023-09-08T21:04:00.902968",
     "status": "completed"
    },
    "tags": []
   },
   "outputs": [
    {
     "name": "stdout",
     "output_type": "stream",
     "text": [
      "MAE from Approach 1 (Drop columns with missing values):\n",
      "183550.22137772635\n"
     ]
    }
   ],
   "source": [
    "# Get names of columns with missing values\n",
    "cols_with_missing = [col for col in X_train.columns\n",
    "                     if X_train[col].isnull().any()]\n",
    "\n",
    "# Drop columns in training and validation data\n",
    "reduced_X_train = X_train.drop(cols_with_missing, axis=1)\n",
    "reduced_X_valid = X_valid.drop(cols_with_missing, axis=1)\n",
    "\n",
    "print(\"MAE from Approach 1 (Drop columns with missing values):\")\n",
    "print(score_dataset(reduced_X_train, reduced_X_valid, y_train, y_valid))"
   ]
  },
  {
   "cell_type": "markdown",
   "id": "05a0f9f4",
   "metadata": {
    "papermill": {
     "duration": 0.010463,
     "end_time": "2023-09-08T21:04:01.388382",
     "exception": false,
     "start_time": "2023-09-08T21:04:01.377919",
     "status": "completed"
    },
    "tags": []
   },
   "source": [
    "### **Score from Approach 2 (Imputation)**\n",
    "\n",
    "Next, we use `SimpleImputer` to replace missing values with the mean value along each column.\n",
    "\n",
    "A estratégia padrão do SimpleImputer é mean.\n",
    "\n",
    "`class sklearn.impute.SimpleImputer(*, missing_values=nan, strategy='mean', fill_value=None, copy=True, add_indicator=False, keep_empty_features=False)`\n",
    "\n"
   ]
  },
  {
   "cell_type": "code",
   "execution_count": 11,
   "id": "39e7ad07",
   "metadata": {
    "execution": {
     "iopub.execute_input": "2023-09-08T21:04:01.412473Z",
     "iopub.status.busy": "2023-09-08T21:04:01.411517Z",
     "iopub.status.idle": "2023-09-08T21:04:01.999383Z",
     "shell.execute_reply": "2023-09-08T21:04:01.998476Z"
    },
    "papermill": {
     "duration": 0.602486,
     "end_time": "2023-09-08T21:04:02.001344",
     "exception": false,
     "start_time": "2023-09-08T21:04:01.398858",
     "status": "completed"
    },
    "tags": []
   },
   "outputs": [
    {
     "name": "stdout",
     "output_type": "stream",
     "text": [
      "MAE from Approach 2 (Imputation):\n",
      "178166.46269899711\n"
     ]
    }
   ],
   "source": [
    "from sklearn.impute import SimpleImputer\n",
    "\n",
    "# Imputation\n",
    "my_imputer = SimpleImputer()\n",
    "imputed_X_train = pd.DataFrame(my_imputer.fit_transform(X_train))\n",
    "imputed_X_valid = pd.DataFrame(my_imputer.transform(X_valid))\n",
    "\n",
    "# Imputation removed column names; put them back\n",
    "imputed_X_train.columns = X_train.columns\n",
    "imputed_X_valid.columns = X_valid.columns\n",
    "\n",
    "print(\"MAE from Approach 2 (Imputation):\")\n",
    "print(score_dataset(imputed_X_train, imputed_X_valid, y_train, y_valid))"
   ]
  },
  {
   "cell_type": "markdown",
   "id": "d085e49d",
   "metadata": {
    "papermill": {
     "duration": 0.011419,
     "end_time": "2023-09-08T21:04:02.024359",
     "exception": false,
     "start_time": "2023-09-08T21:04:02.012940",
     "status": "completed"
    },
    "tags": []
   },
   "source": [
    "### **Score from Approach 3 (An Extension to Imputation)**\n",
    "Next, we impute the missing values, while also keeping track of which values were imputed."
   ]
  },
  {
   "cell_type": "code",
   "execution_count": 12,
   "id": "c389b60e",
   "metadata": {
    "execution": {
     "iopub.execute_input": "2023-09-08T21:04:02.048314Z",
     "iopub.status.busy": "2023-09-08T21:04:02.047919Z",
     "iopub.status.idle": "2023-09-08T21:04:02.674669Z",
     "shell.execute_reply": "2023-09-08T21:04:02.673764Z"
    },
    "papermill": {
     "duration": 0.641077,
     "end_time": "2023-09-08T21:04:02.676590",
     "exception": false,
     "start_time": "2023-09-08T21:04:02.035513",
     "status": "completed"
    },
    "tags": []
   },
   "outputs": [
    {
     "name": "stdout",
     "output_type": "stream",
     "text": [
      "MAE from Approach 3 (An Extension to Imputation):\n",
      "178927.503183954\n"
     ]
    }
   ],
   "source": [
    "# Make copy to avoid changing original data (when imputing)\n",
    "X_train_plus = X_train.copy()\n",
    "X_valid_plus = X_valid.copy()\n",
    "\n",
    "# Make new columns indicating what will be imputed\n",
    "for col in cols_with_missing:\n",
    "    X_train_plus[col + '_was_missing'] = X_train_plus[col].isnull()\n",
    "    X_valid_plus[col + '_was_missing'] = X_valid_plus[col].isnull()\n",
    "\n",
    "# Imputation\n",
    "my_imputer = SimpleImputer()\n",
    "imputed_X_train_plus = pd.DataFrame(my_imputer.fit_transform(X_train_plus))\n",
    "imputed_X_valid_plus = pd.DataFrame(my_imputer.transform(X_valid_plus))\n",
    "\n",
    "# Imputation removed column names; put them back\n",
    "imputed_X_train_plus.columns = X_train_plus.columns\n",
    "imputed_X_valid_plus.columns = X_valid_plus.columns\n",
    "\n",
    "print(\"MAE from Approach 3 (An Extension to Imputation):\")\n",
    "print(score_dataset(imputed_X_train_plus, imputed_X_valid_plus, y_train, y_valid))"
   ]
  },
  {
   "cell_type": "markdown",
   "id": "796111cb",
   "metadata": {
    "papermill": {
     "duration": 0.010306,
     "end_time": "2023-09-08T21:04:02.697984",
     "exception": false,
     "start_time": "2023-09-08T21:04:02.687678",
     "status": "completed"
    },
    "tags": []
   },
   "source": [
    "As we can see, **Approach 3** performed slightly worse than **Approach 2**."
   ]
  },
  {
   "cell_type": "markdown",
   "id": "e5a07b5b",
   "metadata": {
    "papermill": {
     "duration": 0.01035,
     "end_time": "2023-09-08T21:04:02.718991",
     "exception": false,
     "start_time": "2023-09-08T21:04:02.708641",
     "status": "completed"
    },
    "tags": []
   },
   "source": [
    "### Shape of the training data"
   ]
  },
  {
   "cell_type": "code",
   "execution_count": 13,
   "id": "66336d74",
   "metadata": {
    "execution": {
     "iopub.execute_input": "2023-09-08T21:04:02.742108Z",
     "iopub.status.busy": "2023-09-08T21:04:02.741780Z",
     "iopub.status.idle": "2023-09-08T21:04:02.749143Z",
     "shell.execute_reply": "2023-09-08T21:04:02.748107Z"
    },
    "papermill": {
     "duration": 0.021389,
     "end_time": "2023-09-08T21:04:02.751122",
     "exception": false,
     "start_time": "2023-09-08T21:04:02.729733",
     "status": "completed"
    },
    "tags": []
   },
   "outputs": [
    {
     "name": "stdout",
     "output_type": "stream",
     "text": [
      "(10864, 12)\n",
      "Car               49\n",
      "BuildingArea    5156\n",
      "YearBuilt       4307\n",
      "dtype: int64\n"
     ]
    }
   ],
   "source": [
    "# Shape of training data (num_rows, num_columns)\n",
    "print(X_train.shape)\n",
    "\n",
    "# Number of missing values in each column of training data\n",
    "missing_val_count_by_column = (X_train.isnull().sum())\n",
    "print(missing_val_count_by_column[missing_val_count_by_column > 0])"
   ]
  },
  {
   "cell_type": "code",
   "execution_count": 14,
   "id": "58e78947",
   "metadata": {
    "execution": {
     "iopub.execute_input": "2023-09-08T21:04:02.777991Z",
     "iopub.status.busy": "2023-09-08T21:04:02.776820Z",
     "iopub.status.idle": "2023-09-08T21:04:02.783891Z",
     "shell.execute_reply": "2023-09-08T21:04:02.782754Z"
    },
    "papermill": {
     "duration": 0.022504,
     "end_time": "2023-09-08T21:04:02.785813",
     "exception": false,
     "start_time": "2023-09-08T21:04:02.763309",
     "status": "completed"
    },
    "tags": []
   },
   "outputs": [
    {
     "data": {
      "text/plain": [
       "pandas.core.series.Series"
      ]
     },
     "execution_count": 14,
     "metadata": {},
     "output_type": "execute_result"
    }
   ],
   "source": [
    "type(missing_val_count_by_column)"
   ]
  },
  {
   "cell_type": "markdown",
   "id": "d8307cc4",
   "metadata": {
    "papermill": {
     "duration": 0.010851,
     "end_time": "2023-09-08T21:04:02.808138",
     "exception": false,
     "start_time": "2023-09-08T21:04:02.797287",
     "status": "completed"
    },
    "tags": []
   },
   "source": [
    "---"
   ]
  },
  {
   "cell_type": "markdown",
   "id": "2790b9d1",
   "metadata": {
    "papermill": {
     "duration": 0.010857,
     "end_time": "2023-09-08T21:04:02.830213",
     "exception": false,
     "start_time": "2023-09-08T21:04:02.819356",
     "status": "completed"
    },
    "tags": []
   },
   "source": [
    "# Exercise: Missing Values"
   ]
  },
  {
   "cell_type": "code",
   "execution_count": 15,
   "id": "5f13ebab",
   "metadata": {
    "execution": {
     "iopub.execute_input": "2023-09-08T21:04:02.855045Z",
     "iopub.status.busy": "2023-09-08T21:04:02.854711Z",
     "iopub.status.idle": "2023-09-08T21:04:02.902554Z",
     "shell.execute_reply": "2023-09-08T21:04:02.901072Z"
    },
    "papermill": {
     "duration": 0.063657,
     "end_time": "2023-09-08T21:04:02.905056",
     "exception": false,
     "start_time": "2023-09-08T21:04:02.841399",
     "status": "completed"
    },
    "tags": []
   },
   "outputs": [],
   "source": [
    "import pandas as pd\n",
    "from sklearn.model_selection import train_test_split\n",
    "\n",
    "# Read the data\n",
    "X_full = pd.read_csv('../input/home-data-for-ml-course/train.csv', index_col='Id')\n",
    "X_test_full = pd.read_csv('../input/home-data-for-ml-course/test.csv', index_col='Id')\n",
    "\n",
    "# Remove rows with missing target, separate target from predictors\n",
    "X_full.dropna(axis=0, subset=['SalePrice'], inplace=True)\n",
    "y = X_full.SalePrice\n",
    "X_full.drop(['SalePrice'], axis=1, inplace=True)\n",
    "\n",
    "# To keep things simple, we'll use only numerical predictors\n",
    "X = X_full.select_dtypes(exclude=['object'])\n",
    "X_test = X_test_full.select_dtypes(exclude=['object'])\n",
    "\n",
    "# Break off validation set from training data\n",
    "X_train, X_valid, y_train, y_valid = train_test_split(X, y, train_size=0.8, test_size=0.2,\n",
    "                                                      random_state=0)"
   ]
  },
  {
   "cell_type": "code",
   "execution_count": 16,
   "id": "27286d7f",
   "metadata": {
    "execution": {
     "iopub.execute_input": "2023-09-08T21:04:02.930670Z",
     "iopub.status.busy": "2023-09-08T21:04:02.930334Z",
     "iopub.status.idle": "2023-09-08T21:04:02.948430Z",
     "shell.execute_reply": "2023-09-08T21:04:02.947553Z"
    },
    "papermill": {
     "duration": 0.033619,
     "end_time": "2023-09-08T21:04:02.950213",
     "exception": false,
     "start_time": "2023-09-08T21:04:02.916594",
     "status": "completed"
    },
    "tags": []
   },
   "outputs": [
    {
     "data": {
      "text/html": [
       "<div>\n",
       "<style scoped>\n",
       "    .dataframe tbody tr th:only-of-type {\n",
       "        vertical-align: middle;\n",
       "    }\n",
       "\n",
       "    .dataframe tbody tr th {\n",
       "        vertical-align: top;\n",
       "    }\n",
       "\n",
       "    .dataframe thead th {\n",
       "        text-align: right;\n",
       "    }\n",
       "</style>\n",
       "<table border=\"1\" class=\"dataframe\">\n",
       "  <thead>\n",
       "    <tr style=\"text-align: right;\">\n",
       "      <th></th>\n",
       "      <th>MSSubClass</th>\n",
       "      <th>LotFrontage</th>\n",
       "      <th>LotArea</th>\n",
       "      <th>OverallQual</th>\n",
       "      <th>OverallCond</th>\n",
       "      <th>YearBuilt</th>\n",
       "      <th>YearRemodAdd</th>\n",
       "      <th>MasVnrArea</th>\n",
       "      <th>BsmtFinSF1</th>\n",
       "      <th>BsmtFinSF2</th>\n",
       "      <th>...</th>\n",
       "      <th>GarageArea</th>\n",
       "      <th>WoodDeckSF</th>\n",
       "      <th>OpenPorchSF</th>\n",
       "      <th>EnclosedPorch</th>\n",
       "      <th>3SsnPorch</th>\n",
       "      <th>ScreenPorch</th>\n",
       "      <th>PoolArea</th>\n",
       "      <th>MiscVal</th>\n",
       "      <th>MoSold</th>\n",
       "      <th>YrSold</th>\n",
       "    </tr>\n",
       "    <tr>\n",
       "      <th>Id</th>\n",
       "      <th></th>\n",
       "      <th></th>\n",
       "      <th></th>\n",
       "      <th></th>\n",
       "      <th></th>\n",
       "      <th></th>\n",
       "      <th></th>\n",
       "      <th></th>\n",
       "      <th></th>\n",
       "      <th></th>\n",
       "      <th></th>\n",
       "      <th></th>\n",
       "      <th></th>\n",
       "      <th></th>\n",
       "      <th></th>\n",
       "      <th></th>\n",
       "      <th></th>\n",
       "      <th></th>\n",
       "      <th></th>\n",
       "      <th></th>\n",
       "      <th></th>\n",
       "    </tr>\n",
       "  </thead>\n",
       "  <tbody>\n",
       "    <tr>\n",
       "      <th>619</th>\n",
       "      <td>20</td>\n",
       "      <td>90.0</td>\n",
       "      <td>11694</td>\n",
       "      <td>9</td>\n",
       "      <td>5</td>\n",
       "      <td>2007</td>\n",
       "      <td>2007</td>\n",
       "      <td>452.0</td>\n",
       "      <td>48</td>\n",
       "      <td>0</td>\n",
       "      <td>...</td>\n",
       "      <td>774</td>\n",
       "      <td>0</td>\n",
       "      <td>108</td>\n",
       "      <td>0</td>\n",
       "      <td>0</td>\n",
       "      <td>260</td>\n",
       "      <td>0</td>\n",
       "      <td>0</td>\n",
       "      <td>7</td>\n",
       "      <td>2007</td>\n",
       "    </tr>\n",
       "    <tr>\n",
       "      <th>871</th>\n",
       "      <td>20</td>\n",
       "      <td>60.0</td>\n",
       "      <td>6600</td>\n",
       "      <td>5</td>\n",
       "      <td>5</td>\n",
       "      <td>1962</td>\n",
       "      <td>1962</td>\n",
       "      <td>0.0</td>\n",
       "      <td>0</td>\n",
       "      <td>0</td>\n",
       "      <td>...</td>\n",
       "      <td>308</td>\n",
       "      <td>0</td>\n",
       "      <td>0</td>\n",
       "      <td>0</td>\n",
       "      <td>0</td>\n",
       "      <td>0</td>\n",
       "      <td>0</td>\n",
       "      <td>0</td>\n",
       "      <td>8</td>\n",
       "      <td>2009</td>\n",
       "    </tr>\n",
       "    <tr>\n",
       "      <th>93</th>\n",
       "      <td>30</td>\n",
       "      <td>80.0</td>\n",
       "      <td>13360</td>\n",
       "      <td>5</td>\n",
       "      <td>7</td>\n",
       "      <td>1921</td>\n",
       "      <td>2006</td>\n",
       "      <td>0.0</td>\n",
       "      <td>713</td>\n",
       "      <td>0</td>\n",
       "      <td>...</td>\n",
       "      <td>432</td>\n",
       "      <td>0</td>\n",
       "      <td>0</td>\n",
       "      <td>44</td>\n",
       "      <td>0</td>\n",
       "      <td>0</td>\n",
       "      <td>0</td>\n",
       "      <td>0</td>\n",
       "      <td>8</td>\n",
       "      <td>2009</td>\n",
       "    </tr>\n",
       "    <tr>\n",
       "      <th>818</th>\n",
       "      <td>20</td>\n",
       "      <td>NaN</td>\n",
       "      <td>13265</td>\n",
       "      <td>8</td>\n",
       "      <td>5</td>\n",
       "      <td>2002</td>\n",
       "      <td>2002</td>\n",
       "      <td>148.0</td>\n",
       "      <td>1218</td>\n",
       "      <td>0</td>\n",
       "      <td>...</td>\n",
       "      <td>857</td>\n",
       "      <td>150</td>\n",
       "      <td>59</td>\n",
       "      <td>0</td>\n",
       "      <td>0</td>\n",
       "      <td>0</td>\n",
       "      <td>0</td>\n",
       "      <td>0</td>\n",
       "      <td>7</td>\n",
       "      <td>2008</td>\n",
       "    </tr>\n",
       "    <tr>\n",
       "      <th>303</th>\n",
       "      <td>20</td>\n",
       "      <td>118.0</td>\n",
       "      <td>13704</td>\n",
       "      <td>7</td>\n",
       "      <td>5</td>\n",
       "      <td>2001</td>\n",
       "      <td>2002</td>\n",
       "      <td>150.0</td>\n",
       "      <td>0</td>\n",
       "      <td>0</td>\n",
       "      <td>...</td>\n",
       "      <td>843</td>\n",
       "      <td>468</td>\n",
       "      <td>81</td>\n",
       "      <td>0</td>\n",
       "      <td>0</td>\n",
       "      <td>0</td>\n",
       "      <td>0</td>\n",
       "      <td>0</td>\n",
       "      <td>1</td>\n",
       "      <td>2006</td>\n",
       "    </tr>\n",
       "  </tbody>\n",
       "</table>\n",
       "<p>5 rows × 36 columns</p>\n",
       "</div>"
      ],
      "text/plain": [
       "     MSSubClass  LotFrontage  LotArea  OverallQual  OverallCond  YearBuilt  \\\n",
       "Id                                                                           \n",
       "619          20         90.0    11694            9            5       2007   \n",
       "871          20         60.0     6600            5            5       1962   \n",
       "93           30         80.0    13360            5            7       1921   \n",
       "818          20          NaN    13265            8            5       2002   \n",
       "303          20        118.0    13704            7            5       2001   \n",
       "\n",
       "     YearRemodAdd  MasVnrArea  BsmtFinSF1  BsmtFinSF2  ...  GarageArea  \\\n",
       "Id                                                     ...               \n",
       "619          2007       452.0          48           0  ...         774   \n",
       "871          1962         0.0           0           0  ...         308   \n",
       "93           2006         0.0         713           0  ...         432   \n",
       "818          2002       148.0        1218           0  ...         857   \n",
       "303          2002       150.0           0           0  ...         843   \n",
       "\n",
       "     WoodDeckSF  OpenPorchSF  EnclosedPorch  3SsnPorch  ScreenPorch  PoolArea  \\\n",
       "Id                                                                              \n",
       "619           0          108              0          0          260         0   \n",
       "871           0            0              0          0            0         0   \n",
       "93            0            0             44          0            0         0   \n",
       "818         150           59              0          0            0         0   \n",
       "303         468           81              0          0            0         0   \n",
       "\n",
       "     MiscVal  MoSold  YrSold  \n",
       "Id                            \n",
       "619        0       7    2007  \n",
       "871        0       8    2009  \n",
       "93         0       8    2009  \n",
       "818        0       7    2008  \n",
       "303        0       1    2006  \n",
       "\n",
       "[5 rows x 36 columns]"
      ]
     },
     "execution_count": 16,
     "metadata": {},
     "output_type": "execute_result"
    }
   ],
   "source": [
    "X_train.head()"
   ]
  },
  {
   "cell_type": "markdown",
   "id": "525bb2be",
   "metadata": {
    "papermill": {
     "duration": 0.010938,
     "end_time": "2023-09-08T21:04:02.973056",
     "exception": false,
     "start_time": "2023-09-08T21:04:02.962118",
     "status": "completed"
    },
    "tags": []
   },
   "source": [
    "You can already see a few missing values in the first several rows.  In the next step, you'll obtain a more comprehensive understanding of the missing values in the dataset.\n",
    "\n",
    "# Step 1: Preliminary investigation\n"
   ]
  },
  {
   "cell_type": "code",
   "execution_count": 17,
   "id": "bf638ffd",
   "metadata": {
    "execution": {
     "iopub.execute_input": "2023-09-08T21:04:02.996767Z",
     "iopub.status.busy": "2023-09-08T21:04:02.996451Z",
     "iopub.status.idle": "2023-09-08T21:04:03.003305Z",
     "shell.execute_reply": "2023-09-08T21:04:03.002286Z"
    },
    "papermill": {
     "duration": 0.020721,
     "end_time": "2023-09-08T21:04:03.004876",
     "exception": false,
     "start_time": "2023-09-08T21:04:02.984155",
     "status": "completed"
    },
    "tags": []
   },
   "outputs": [
    {
     "name": "stdout",
     "output_type": "stream",
     "text": [
      "(1168, 36)\n",
      "LotFrontage    212\n",
      "MasVnrArea       6\n",
      "GarageYrBlt     58\n",
      "dtype: int64\n"
     ]
    }
   ],
   "source": [
    "# Shape of training data (num_rows, num_columns)\n",
    "print(X_train.shape)\n",
    "\n",
    "# Number of missing values in each column of training data\n",
    "missing_val_count_by_column = (X_train.isnull().sum())\n",
    "print(missing_val_count_by_column[missing_val_count_by_column > 0])"
   ]
  },
  {
   "cell_type": "markdown",
   "id": "55a366a2",
   "metadata": {
    "papermill": {
     "duration": 0.010834,
     "end_time": "2023-09-08T21:04:03.026952",
     "exception": false,
     "start_time": "2023-09-08T21:04:03.016118",
     "status": "completed"
    },
    "tags": []
   },
   "source": [
    "Uma vez que temos poucas linhas com valores faltantes, se removermos as essas colunas, estaremos jogando muitos dados fora!! A melhor opção será usar o `Imputation`"
   ]
  },
  {
   "cell_type": "markdown",
   "id": "0cf66d6a",
   "metadata": {
    "papermill": {
     "duration": 0.010919,
     "end_time": "2023-09-08T21:04:03.048959",
     "exception": false,
     "start_time": "2023-09-08T21:04:03.038040",
     "status": "completed"
    },
    "tags": []
   },
   "source": [
    "To compare different approaches to dealing with missing values, you'll use the same score_dataset() function from the tutorial. This function reports the mean absolute error (MAE) from a random forest model."
   ]
  },
  {
   "cell_type": "code",
   "execution_count": 18,
   "id": "885428e9",
   "metadata": {
    "execution": {
     "iopub.execute_input": "2023-09-08T21:04:03.072946Z",
     "iopub.status.busy": "2023-09-08T21:04:03.072658Z",
     "iopub.status.idle": "2023-09-08T21:04:03.077280Z",
     "shell.execute_reply": "2023-09-08T21:04:03.076433Z"
    },
    "papermill": {
     "duration": 0.019335,
     "end_time": "2023-09-08T21:04:03.079708",
     "exception": false,
     "start_time": "2023-09-08T21:04:03.060373",
     "status": "completed"
    },
    "tags": []
   },
   "outputs": [],
   "source": [
    "from sklearn.ensemble import RandomForestRegressor\n",
    "from sklearn.metrics import mean_absolute_error\n",
    "\n",
    "# Function for comparing different approaches\n",
    "def score_dataset(X_train, X_valid, y_train, y_valid):\n",
    "    model = RandomForestRegressor(n_estimators=100, random_state=0)\n",
    "    model.fit(X_train, y_train)\n",
    "    preds = model.predict(X_valid)\n",
    "    return mean_absolute_error(y_valid, preds)"
   ]
  },
  {
   "cell_type": "markdown",
   "id": "87e03b1b",
   "metadata": {
    "papermill": {
     "duration": 0.011635,
     "end_time": "2023-09-08T21:04:03.103483",
     "exception": false,
     "start_time": "2023-09-08T21:04:03.091848",
     "status": "completed"
    },
    "tags": []
   },
   "source": [
    "# Step 2: Drop columns with missing values\n",
    "\n",
    "In this step, you'll preprocess the data in `X_train` and `X_valid` to remove columns with missing values.  Set the preprocessed DataFrames to `reduced_X_train` and `reduced_X_valid`, respectively.  "
   ]
  },
  {
   "cell_type": "code",
   "execution_count": 19,
   "id": "9117838e",
   "metadata": {
    "execution": {
     "iopub.execute_input": "2023-09-08T21:04:03.128502Z",
     "iopub.status.busy": "2023-09-08T21:04:03.128158Z",
     "iopub.status.idle": "2023-09-08T21:04:03.140552Z",
     "shell.execute_reply": "2023-09-08T21:04:03.139663Z"
    },
    "papermill": {
     "duration": 0.027118,
     "end_time": "2023-09-08T21:04:03.142305",
     "exception": false,
     "start_time": "2023-09-08T21:04:03.115187",
     "status": "completed"
    },
    "tags": []
   },
   "outputs": [],
   "source": [
    "# Get names of columns with missing values\n",
    "cols_with_missing = [col for col in X_train.columns\n",
    "                     if X_train[col].isnull().any()]\n",
    "\n",
    "# Drop columns in training and validation data\n",
    "reduced_X_train = X_train.drop(cols_with_missing, axis=1)\n",
    "reduced_X_valid = X_valid.drop(cols_with_missing, axis=1)"
   ]
  },
  {
   "cell_type": "code",
   "execution_count": 20,
   "id": "01c1cdca",
   "metadata": {
    "execution": {
     "iopub.execute_input": "2023-09-08T21:04:03.167116Z",
     "iopub.status.busy": "2023-09-08T21:04:03.166777Z",
     "iopub.status.idle": "2023-09-08T21:04:04.153033Z",
     "shell.execute_reply": "2023-09-08T21:04:04.151666Z"
    },
    "papermill": {
     "duration": 1.001175,
     "end_time": "2023-09-08T21:04:04.155088",
     "exception": false,
     "start_time": "2023-09-08T21:04:03.153913",
     "status": "completed"
    },
    "tags": []
   },
   "outputs": [
    {
     "name": "stdout",
     "output_type": "stream",
     "text": [
      "MAE (Drop columns with missing values):\n",
      "17837.82570776256\n"
     ]
    }
   ],
   "source": [
    "print(\"MAE (Drop columns with missing values):\")\n",
    "print(score_dataset(reduced_X_train, reduced_X_valid, y_train, y_valid))"
   ]
  },
  {
   "cell_type": "markdown",
   "id": "3eda3ed7",
   "metadata": {
    "papermill": {
     "duration": 0.012699,
     "end_time": "2023-09-08T21:04:04.180553",
     "exception": false,
     "start_time": "2023-09-08T21:04:04.167854",
     "status": "completed"
    },
    "tags": []
   },
   "source": [
    "# Step 3: Imputation\n",
    "\n",
    "### Part A\n",
    "\n",
    "Use the next code cell to impute missing values with the mean value along each column.  Set the preprocessed DataFrames to `imputed_X_train` and `imputed_X_valid`.  Make sure that the column names match those in `X_train` and `X_valid`."
   ]
  },
  {
   "cell_type": "code",
   "execution_count": 21,
   "id": "58a65338",
   "metadata": {
    "execution": {
     "iopub.execute_input": "2023-09-08T21:04:04.206760Z",
     "iopub.status.busy": "2023-09-08T21:04:04.206373Z",
     "iopub.status.idle": "2023-09-08T21:04:04.218624Z",
     "shell.execute_reply": "2023-09-08T21:04:04.217954Z"
    },
    "papermill": {
     "duration": 0.027703,
     "end_time": "2023-09-08T21:04:04.220608",
     "exception": false,
     "start_time": "2023-09-08T21:04:04.192905",
     "status": "completed"
    },
    "tags": []
   },
   "outputs": [],
   "source": [
    "from sklearn.impute import SimpleImputer\n",
    "\n",
    "# Fill in the lines below: imputation\n",
    "my_imputer = SimpleImputer()\n",
    "imputed_X_train = pd.DataFrame(my_imputer.fit_transform(X_train), columns=X_train.columns)\n",
    "imputed_X_valid = pd.DataFrame(my_imputer.transform(X_valid), columns=X_valid.columns)\n"
   ]
  },
  {
   "cell_type": "code",
   "execution_count": 22,
   "id": "b182fe6e",
   "metadata": {
    "execution": {
     "iopub.execute_input": "2023-09-08T21:04:04.246547Z",
     "iopub.status.busy": "2023-09-08T21:04:04.245701Z",
     "iopub.status.idle": "2023-09-08T21:04:05.329025Z",
     "shell.execute_reply": "2023-09-08T21:04:05.327499Z"
    },
    "papermill": {
     "duration": 1.098973,
     "end_time": "2023-09-08T21:04:05.331654",
     "exception": false,
     "start_time": "2023-09-08T21:04:04.232681",
     "status": "completed"
    },
    "tags": []
   },
   "outputs": [
    {
     "name": "stdout",
     "output_type": "stream",
     "text": [
      "MAE (Imputation):\n",
      "18062.894611872147\n"
     ]
    }
   ],
   "source": [
    "print(\"MAE (Imputation):\")\n",
    "print(score_dataset(imputed_X_train, imputed_X_valid, y_train, y_valid))"
   ]
  },
  {
   "cell_type": "markdown",
   "id": "5a8d63f0",
   "metadata": {
    "papermill": {
     "duration": 0.011314,
     "end_time": "2023-09-08T21:04:05.355183",
     "exception": false,
     "start_time": "2023-09-08T21:04:05.343869",
     "status": "completed"
    },
    "tags": []
   },
   "source": [
    "## Defining the approach to use to fit the model "
   ]
  },
  {
   "cell_type": "code",
   "execution_count": 23,
   "id": "39bf0bae",
   "metadata": {
    "execution": {
     "iopub.execute_input": "2023-09-08T21:04:05.380812Z",
     "iopub.status.busy": "2023-09-08T21:04:05.379672Z",
     "iopub.status.idle": "2023-09-08T21:04:05.384085Z",
     "shell.execute_reply": "2023-09-08T21:04:05.383191Z"
    },
    "papermill": {
     "duration": 0.019401,
     "end_time": "2023-09-08T21:04:05.386237",
     "exception": false,
     "start_time": "2023-09-08T21:04:05.366836",
     "status": "completed"
    },
    "tags": []
   },
   "outputs": [],
   "source": [
    "# Preprocessed training and validation features\n",
    "final_X_train = reduced_X_train\n",
    "final_X_valid = reduced_X_valid"
   ]
  },
  {
   "cell_type": "code",
   "execution_count": 24,
   "id": "eba49f41",
   "metadata": {
    "execution": {
     "iopub.execute_input": "2023-09-08T21:04:05.412709Z",
     "iopub.status.busy": "2023-09-08T21:04:05.410932Z",
     "iopub.status.idle": "2023-09-08T21:04:06.382732Z",
     "shell.execute_reply": "2023-09-08T21:04:06.381474Z"
    },
    "papermill": {
     "duration": 0.986704,
     "end_time": "2023-09-08T21:04:06.384917",
     "exception": false,
     "start_time": "2023-09-08T21:04:05.398213",
     "status": "completed"
    },
    "tags": []
   },
   "outputs": [
    {
     "name": "stdout",
     "output_type": "stream",
     "text": [
      "MAE (Your approach):\n",
      "17837.82570776256\n"
     ]
    }
   ],
   "source": [
    "# Define and fit model\n",
    "model = RandomForestRegressor(n_estimators=100, random_state=0)\n",
    "model.fit(final_X_train, y_train)\n",
    "\n",
    "# Get validation predictions and MAE\n",
    "preds_valid = model.predict(final_X_valid)\n",
    "print(\"MAE (Your approach):\")\n",
    "print(mean_absolute_error(y_valid, preds_valid))"
   ]
  },
  {
   "cell_type": "markdown",
   "id": "2d586ca3",
   "metadata": {
    "papermill": {
     "duration": 0.01124,
     "end_time": "2023-09-08T21:04:06.408100",
     "exception": false,
     "start_time": "2023-09-08T21:04:06.396860",
     "status": "completed"
    },
    "tags": []
   },
   "source": [
    "### Part B\n",
    "\n",
    "Use the next code cell to preprocess your test data.  Make sure that you use a method that agrees with how you preprocessed the training and validation data, and set the preprocessed test features to `final_X_test`.\n",
    "\n",
    "Then, use the preprocessed test features and the trained model to generate test predictions in `preds_test`.\n",
    "\n",
    "In order for this step to be marked correct, you need only ensure:\n",
    "- the preprocessed test DataFrame has no missing values, and\n",
    "- `final_X_test` has the same number of rows as `X_test`."
   ]
  },
  {
   "cell_type": "markdown",
   "id": "30c58b2e",
   "metadata": {
    "papermill": {
     "duration": 0.011537,
     "end_time": "2023-09-08T21:04:06.431179",
     "exception": false,
     "start_time": "2023-09-08T21:04:06.419642",
     "status": "completed"
    },
    "tags": []
   },
   "source": []
  },
  {
   "cell_type": "code",
   "execution_count": 25,
   "id": "5d9e3497",
   "metadata": {
    "execution": {
     "iopub.execute_input": "2023-09-08T21:04:06.456668Z",
     "iopub.status.busy": "2023-09-08T21:04:06.456349Z",
     "iopub.status.idle": "2023-09-08T21:04:06.469261Z",
     "shell.execute_reply": "2023-09-08T21:04:06.468253Z"
    },
    "papermill": {
     "duration": 0.028129,
     "end_time": "2023-09-08T21:04:06.471079",
     "exception": false,
     "start_time": "2023-09-08T21:04:06.442950",
     "status": "completed"
    },
    "tags": []
   },
   "outputs": [
    {
     "name": "stdout",
     "output_type": "stream",
     "text": [
      "BsmtFinSF1\n",
      "BsmtFinSF2\n",
      "BsmtUnfSF\n",
      "TotalBsmtSF\n",
      "BsmtFullBath\n",
      "BsmtHalfBath\n",
      "GarageCars\n",
      "GarageArea\n"
     ]
    }
   ],
   "source": [
    "# Fill in the line below: preprocess test data\n",
    "final_X_test = X_test.drop(cols_with_missing, axis=1)\n",
    "\n",
    "for col in final_X_test.columns:\n",
    "    if final_X_test[col].isnull().any():\n",
    "        print(col)\n"
   ]
  },
  {
   "cell_type": "code",
   "execution_count": 26,
   "id": "1692b0b2",
   "metadata": {
    "execution": {
     "iopub.execute_input": "2023-09-08T21:04:06.496792Z",
     "iopub.status.busy": "2023-09-08T21:04:06.496305Z",
     "iopub.status.idle": "2023-09-08T21:04:06.503963Z",
     "shell.execute_reply": "2023-09-08T21:04:06.502394Z"
    },
    "papermill": {
     "duration": 0.02237,
     "end_time": "2023-09-08T21:04:06.505846",
     "exception": false,
     "start_time": "2023-09-08T21:04:06.483476",
     "status": "completed"
    },
    "tags": []
   },
   "outputs": [
    {
     "name": "stdout",
     "output_type": "stream",
     "text": [
      "(1459, 33)\n",
      "BsmtFinSF1      1\n",
      "BsmtFinSF2      1\n",
      "BsmtUnfSF       1\n",
      "TotalBsmtSF     1\n",
      "BsmtFullBath    2\n",
      "BsmtHalfBath    2\n",
      "GarageCars      1\n",
      "GarageArea      1\n",
      "dtype: int64\n"
     ]
    }
   ],
   "source": [
    "print(final_X_test.shape)\n",
    "# Number of missing values in each column of training data\n",
    "missing_val_count_by_column = (final_X_test.isnull().sum())\n",
    "print(missing_val_count_by_column[missing_val_count_by_column > 0])"
   ]
  },
  {
   "cell_type": "code",
   "execution_count": 27,
   "id": "24abb7cd",
   "metadata": {
    "execution": {
     "iopub.execute_input": "2023-09-08T21:04:06.531082Z",
     "iopub.status.busy": "2023-09-08T21:04:06.530671Z",
     "iopub.status.idle": "2023-09-08T21:04:06.560259Z",
     "shell.execute_reply": "2023-09-08T21:04:06.559167Z"
    },
    "papermill": {
     "duration": 0.045009,
     "end_time": "2023-09-08T21:04:06.562617",
     "exception": false,
     "start_time": "2023-09-08T21:04:06.517608",
     "status": "completed"
    },
    "tags": []
   },
   "outputs": [],
   "source": [
    "final_X_test = final_X_test.fillna(0)\n",
    "\n",
    "# Fill in the line below: get test predictions\n",
    "preds_test = model.predict(final_X_test)"
   ]
  },
  {
   "cell_type": "markdown",
   "id": "9dd576f3",
   "metadata": {
    "papermill": {
     "duration": 0.011618,
     "end_time": "2023-09-08T21:04:06.586347",
     "exception": false,
     "start_time": "2023-09-08T21:04:06.574729",
     "status": "completed"
    },
    "tags": []
   },
   "source": [
    "Run the next code cell without changes to save your results to a CSV file that can be submitted directly to the competition."
   ]
  },
  {
   "cell_type": "code",
   "execution_count": 28,
   "id": "42b0904d",
   "metadata": {
    "execution": {
     "iopub.execute_input": "2023-09-08T21:04:06.611390Z",
     "iopub.status.busy": "2023-09-08T21:04:06.611018Z",
     "iopub.status.idle": "2023-09-08T21:04:06.619568Z",
     "shell.execute_reply": "2023-09-08T21:04:06.618692Z"
    },
    "papermill": {
     "duration": 0.023405,
     "end_time": "2023-09-08T21:04:06.621337",
     "exception": false,
     "start_time": "2023-09-08T21:04:06.597932",
     "status": "completed"
    },
    "tags": []
   },
   "outputs": [],
   "source": [
    "# Save test predictions to file\n",
    "output = pd.DataFrame({'Id': X_test.index,\n",
    "                       'SalePrice': preds_test})\n",
    "output.to_csv('submission.csv', index=False)"
   ]
  }
 ],
 "kernelspec": {
  "display_name": "Python 3",
  "language": "python",
  "name": "python3"
 },
 "language_info": {
  "codemirror_mode": {
   "name": "ipython",
   "version": 3
  },
  "file_extension": ".py",
  "mimetype": "text/x-python",
  "name": "python",
  "nbconvert_exporter": "python",
  "pygments_lexer": "ipython3",
  "version": "3.6.4"
 },
 "metadata": {
  "kernelspec": {
   "display_name": "Python 3",
   "language": "python",
   "name": "python3"
  },
  "language_info": {
   "codemirror_mode": {
    "name": "ipython",
    "version": 3
   },
   "file_extension": ".py",
   "mimetype": "text/x-python",
   "name": "python",
   "nbconvert_exporter": "python",
   "pygments_lexer": "ipython3",
   "version": "3.10.12"
  },
  "papermill": {
   "default_parameters": {},
   "duration": 19.603807,
   "end_time": "2023-09-08T21:04:07.153202",
   "environment_variables": {},
   "exception": null,
   "input_path": "__notebook__.ipynb",
   "output_path": "__notebook__.ipynb",
   "parameters": {},
   "start_time": "2023-09-08T21:03:47.549395",
   "version": "2.4.0"
  }
 },
 "nbformat": 4,
 "nbformat_minor": 5
}
